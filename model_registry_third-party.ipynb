{
 "cells": [
  {
   "cell_type": "markdown",
   "metadata": {},
   "source": [
    "# Examples of loging non Snowpark ML models into the Snowpark Model Registry"
   ]
  },
  {
   "cell_type": "code",
   "execution_count": 3,
   "metadata": {},
   "outputs": [],
   "source": [
    "# Import needed Snowflake modules\n",
    "from snowflake.snowpark import Session\n",
    "import snowflake.snowpark.functions as F\n",
    "from snowflake.ml.registry import Registry\n",
    "\n",
    "# Common modules for all examples\n",
    "import pandas as pd\n",
    "import numpy as np"
   ]
  },
  {
   "cell_type": "code",
   "execution_count": null,
   "metadata": {},
   "outputs": [],
   "source": []
  },
  {
   "cell_type": "markdown",
   "metadata": {},
   "source": [
    "### Connect to Snowflake\n",
    "\n",
    "This example is using the connections.toml file to connect to Snowflake. You can read more at https://docs.snowflake.com/en/developer-guide/python-connector/python-connector-connect#connecting-using-the-connections-toml-file how to set it up."
   ]
  },
  {
   "cell_type": "code",
   "execution_count": 4,
   "metadata": {},
   "outputs": [
    {
     "data": {
      "text/plain": [
       "'\"SNOWPARK_DEMO_DB\".\"SOURCE_DATA\"'"
      ]
     },
     "execution_count": 4,
     "metadata": {},
     "output_type": "execute_result"
    }
   ],
   "source": [
    "CONNECTION_NAME = 'mstellwall_aws_us_west3' # Name of the connection in connections.toml to be used to connect to Snowflake\n",
    "DATABASE_NAME = 'SNOWPARK_DEMO_DB' # Database to use for data\n",
    "DATABASE_SCHEMA = 'SOURCE_DATA' # Name of schema to store data in and where wource data is\n",
    "FULLY_QUALIFIED_NAME = f\"{DATABASE_NAME}.{DATABASE_SCHEMA}\"\n",
    "\n",
    "snf_session = Session.builder.config(\"connection_name\", CONNECTION_NAME).create()\n",
    "snf_session.use_schema(FULLY_QUALIFIED_NAME)\n",
    "snf_session.get_fully_qualified_current_schema()"
   ]
  },
  {
   "cell_type": "code",
   "execution_count": 5,
   "metadata": {},
   "outputs": [],
   "source": [
    "# \n",
    "snowml_registry = Registry(snf_session)"
   ]
  },
  {
   "cell_type": "markdown",
   "metadata": {},
   "source": [
    "## OOTB Models\n",
    "### Scikit-Learn\n",
    "\n",
    "Train a RandomForestRegressor model within a pipline and log the fitted pipeline into the Snowpark Model Registry"
   ]
  },
  {
   "cell_type": "code",
   "execution_count": null,
   "metadata": {},
   "outputs": [],
   "source": [
    "# SKLearn Imports\n",
    "from sklearn.model_selection import train_test_split\n",
    "\n",
    "from sklearn.ensemble import RandomForestRegressor\n",
    "from sklearn.metrics import mean_absolute_percentage_error\n",
    "from sklearn.preprocessing import MinMaxScaler, OrdinalEncoder\n",
    "from sklearn.compose import ColumnTransformer\n",
    "from sklearn.pipeline import Pipeline\n",
    "\n"
   ]
  },
  {
   "cell_type": "markdown",
   "metadata": {},
   "source": [
    "Get some data to use for training"
   ]
  },
  {
   "cell_type": "code",
   "execution_count": null,
   "metadata": {},
   "outputs": [],
   "source": [
    "\n",
    "# Use the diamond dataset\n",
    "data = pd.read_csv(\"https://raw.githubusercontent.com/tidyverse/ggplot2/882584f915b23cda5091fb69e88f19e8200811bf/data-raw/diamonds.csv\", sep=',')\n",
    "\n",
    "# rename table to table_pct so we do not have any issues with selecting teh column when using data in snowflake\n",
    "data.rename(columns={'table': 'table_pct'}, inplace=True)\n",
    "\n",
    "data.head()\n"
   ]
  },
  {
   "cell_type": "markdown",
   "metadata": {},
   "source": [
    "Define categorical and numerical columns, create X and y datastest and split them into train and test"
   ]
  },
  {
   "cell_type": "code",
   "execution_count": null,
   "metadata": {},
   "outputs": [],
   "source": [
    "CATEGORICAL_COLUMNS = [\"cut\", \"color\", \"clarity\"]\n",
    "NUMERICAL_COLUMNS = [\"carat\", \"depth\", \"table_pct\", \"x\", \"y\", \"z\"]\n",
    "X = data.drop([\"price\"], axis=1)\n",
    "y = data.price\n",
    "\n",
    "X_train, X_test, y_train, y_test = train_test_split(X, y, train_size=0.9, random_state=123)"
   ]
  },
  {
   "cell_type": "markdown",
   "metadata": {},
   "source": [
    "Create a Pipeline that do preprocessing and then fit a RandomForestRegressor"
   ]
  },
  {
   "cell_type": "code",
   "execution_count": null,
   "metadata": {},
   "outputs": [],
   "source": [
    "\n",
    "categories = [\n",
    "    np.array([\"Ideal\", \"Premium\", \"Very Good\", \"Good\", \"Fair\"]), # cut\n",
    "    np.array(['D', 'E', 'F', 'G', 'H', 'I', 'J']), # color\n",
    "    np.array([\"IF\", \"VVS1\", \"VVS2\", \"VS1\", \"VS2\", \"SI1\", \"SI2\", \"I1\", \"I2\", \"I3\"]), # clarity\n",
    "]\n",
    "\n",
    "cat_transformer = Pipeline(steps=[\n",
    "        ('oe', OrdinalEncoder(categories=categories))\n",
    "    ])\n",
    "\n",
    "num_transformer = Pipeline(steps=[\n",
    "        ('scaler', MinMaxScaler(clip=True))\n",
    "    ])\n",
    "\n",
    "# Combine into a column transformer\n",
    "preprocessor = ColumnTransformer(\n",
    "    [\n",
    "        ('num', num_transformer, NUMERICAL_COLUMNS),\n",
    "        ('cat', cat_transformer, CATEGORICAL_COLUMNS),\n",
    "    ],  verbose_feature_names_out=False,\n",
    ")\n",
    "\n",
    "\n",
    "# Create a pipeline with the column transformer and training of a Random Forrest Classifier\n",
    "pipeline = Pipeline(steps=[('preprocessor', preprocessor),\n",
    "                        ('classifier', RandomForestRegressor(n_jobs=-1))])\n",
    "\n",
    "# Train\n",
    "pipeline.fit(X_train, y_train)"
   ]
  },
  {
   "cell_type": "markdown",
   "metadata": {},
   "source": [
    "Calculate the MAPE on the test data"
   ]
  },
  {
   "cell_type": "code",
   "execution_count": null,
   "metadata": {},
   "outputs": [],
   "source": [
    "# Eval\n",
    "y_pred = pipeline.predict(X_test)\n",
    "\n",
    "mape = mean_absolute_percentage_error(y_test, y_pred)\n",
    "print(f\"Mean absolute percentage error: {mape}\")"
   ]
  },
  {
   "cell_type": "markdown",
   "metadata": {},
   "source": [
    "Every model saved in the Snowpark Model Registry needs a unique name within the schema it is saved in, a model name can have multiple versions where each version needs a unique name (within the model)."
   ]
  },
  {
   "cell_type": "code",
   "execution_count": null,
   "metadata": {},
   "outputs": [],
   "source": [
    "skl_model_name = \"skl_diamonds\"\n",
    "skl_version_name = 'V1'\n"
   ]
  },
  {
   "cell_type": "markdown",
   "metadata": {},
   "source": [
    "Log the SKLearn pipeline"
   ]
  },
  {
   "cell_type": "code",
   "execution_count": null,
   "metadata": {},
   "outputs": [],
   "source": [
    "skl_mv = snowml_registry.log_model(model=pipeline, \n",
    "                                   model_name = skl_model_name, \n",
    "                                   version_name = skl_version_name,\n",
    "                                   sample_input_data = X_train.head(),\n",
    "                                   metrics = {\"test_mape\": mape},\n",
    "                                   comment='SKLearn pipline'\n",
    "                                )\n"
   ]
  },
  {
   "cell_type": "markdown",
   "metadata": {},
   "source": [
    "We can check what functions we have avalible by using **show_functions()**"
   ]
  },
  {
   "cell_type": "code",
   "execution_count": null,
   "metadata": {},
   "outputs": [],
   "source": [
    "skl_mv.show_functions()"
   ]
  },
  {
   "cell_type": "markdown",
   "metadata": {},
   "source": [
    "Create a Snowpark DataFrame to test the deployed model"
   ]
  },
  {
   "cell_type": "code",
   "execution_count": null,
   "metadata": {},
   "outputs": [],
   "source": [
    "snf_test_df = snf_session.create_dataframe([[0.23, 'Ideal', 'E', 'SI2', 61.5, 55.0, 3.95, 3.98, 2.43]]\n",
    "                                           , schema=['carat', 'cut', 'color', 'clarity', 'depth', 'table_pct', 'x', 'y', 'z'])\n",
    "snf_test_df.show()"
   ]
  },
  {
   "cell_type": "markdown",
   "metadata": {},
   "source": [
    "USe the model on the Snowpark DataFrame"
   ]
  },
  {
   "cell_type": "code",
   "execution_count": null,
   "metadata": {},
   "outputs": [],
   "source": [
    "skl_mv.run(snf_test_df).show()"
   ]
  },
  {
   "cell_type": "markdown",
   "metadata": {},
   "source": [
    "### XGBoost"
   ]
  },
  {
   "cell_type": "code",
   "execution_count": 1,
   "metadata": {},
   "outputs": [],
   "source": [
    "from xgboost import XGBClassifier\n",
    "# read data\n",
    "from sklearn.datasets import load_iris\n",
    "from sklearn.model_selection import train_test_split\n",
    "data = load_iris()\n",
    "X_train, X_test, y_train, y_test = train_test_split(data['data'], data['target'], test_size=.2)\n",
    "# create model instance\n",
    "bst = XGBClassifier(n_estimators=2, max_depth=2, learning_rate=1, objective='binary:logistic')\n",
    "# fit model\n",
    "bst.fit(X_train, y_train)\n",
    "# make predictions\n",
    "preds = bst.predict(X_test)"
   ]
  },
  {
   "cell_type": "code",
   "execution_count": 6,
   "metadata": {},
   "outputs": [
    {
     "name": "stderr",
     "output_type": "stream",
     "text": [
      "/Users/mstellwall/anaconda3/envs/snowml_latest_311/lib/python3.11/contextlib.py:137: UserWarning: `relax_version` is not set and therefore defaulted to True. Dependency version constraints relaxed from ==x.y.z to >=x.y, <(x+1). To use specific dependency versions for compatibility, reproducibility, etc., set `options={'relax_version': False}` when logging the model.\n",
      "  return next(self.gen)\n",
      "/Users/mstellwall/anaconda3/envs/snowml_latest_311/lib/python3.11/site-packages/snowflake/ml/model/model_signature.py:69: UserWarning: The sample input has 120 rows, thus a truncation happened before inferring signature. This might cause inaccurate signature inference. If that happens, consider specifying signature manually.\n",
      "  warnings.warn(\n"
     ]
    }
   ],
   "source": [
    "bst_mv = snowml_registry.log_model(model=bst # This is the fitted XGBoost object\n",
    "                                    , model_name= \"my_xgboost_model\" \n",
    "                                    , version_name= \"V1\"\n",
    "                                    , sample_input_data=X_train # In order to get the correct signature for the model, sample data (without target) needs to be applied\n",
    "                                    , conda_dependencies = ['xgboost==1.7.3']\n",
    "                            )"
   ]
  },
  {
   "cell_type": "code",
   "execution_count": null,
   "metadata": {},
   "outputs": [],
   "source": []
  },
  {
   "cell_type": "markdown",
   "metadata": {},
   "source": [
    "# Using CustomModel\n",
    "\n",
    "https://docs.snowflake.com/en/developer-guide/snowpark-ml/reference/latest/model#snowflake-ml-model-custom-model"
   ]
  },
  {
   "cell_type": "code",
   "execution_count": 25,
   "metadata": {},
   "outputs": [],
   "source": [
    "# Needed additional Snowpark ML modules\n",
    "from snowflake.ml.model import custom_model\n",
    "from snowflake.ml.model import model_signature\n",
    "\n",
    "import os\n",
    "import shutil"
   ]
  },
  {
   "cell_type": "markdown",
   "metadata": {},
   "source": [
    "## PyCaret"
   ]
  },
  {
   "cell_type": "code",
   "execution_count": null,
   "metadata": {},
   "outputs": [],
   "source": [
    "# Needed PyCaret modules\n",
    "from pycaret.classification import ClassificationExperiment, predict_model, load_model\n",
    "from pycaret.datasets import get_data"
   ]
  },
  {
   "cell_type": "markdown",
   "metadata": {},
   "source": [
    "Start by running a Classification Experiment using the Juice dataset"
   ]
  },
  {
   "cell_type": "code",
   "execution_count": null,
   "metadata": {},
   "outputs": [],
   "source": [
    "data = get_data('juice')\n",
    "\n",
    "cl_exp = ClassificationExperiment()\n",
    "cl_exp.setup(data, target='Purchase', session_id=123)\n",
    "best_model = cl_exp.compare_models()"
   ]
  },
  {
   "cell_type": "markdown",
   "metadata": {},
   "source": [
    "In order to log the model/experiment into the Snowpark Model Registry we need to \n",
    "1) Serilize the model into a file\n",
    "2) Create a CustomModel class\n",
    "\n",
    "Start by saving the model as afile using the *save_model* method"
   ]
  },
  {
   "cell_type": "code",
   "execution_count": null,
   "metadata": {},
   "outputs": [],
   "source": [
    "# Save model as file\n",
    "cl_exp.save_model(best_model, \"juice_best_model\")"
   ]
  },
  {
   "cell_type": "markdown",
   "metadata": {},
   "source": [
    "We need to set up a file structure to be used for the CustomModel and to move the saved file into it."
   ]
  },
  {
   "cell_type": "code",
   "execution_count": null,
   "metadata": {},
   "outputs": [],
   "source": [
    "\n",
    "ARTIFACTS_DIR = \"/tmp/pycaret/\"\n",
    "# Create the directory where we will move the file\n",
    "os.makedirs(os.path.join(ARTIFACTS_DIR, \"model\"), exist_ok=True)\n",
    "# Move the saved model into the directory\n",
    "shutil.move('juice_best_model.pkl', os.path.join(ARTIFACTS_DIR, 'model',  'juice_best_model.pkl'))"
   ]
  },
  {
   "cell_type": "markdown",
   "metadata": {},
   "source": [
    "Next step is to create a CustomModel class that will be used in Snowflake when calling the methods/functions of the model. In this case we will only support the *predict* function, but if wanted to support addtional functions we would specifiy those as methonds of our class"
   ]
  },
  {
   "cell_type": "code",
   "execution_count": null,
   "metadata": {},
   "outputs": [],
   "source": [
    "# Name of the class\n",
    "class PyCaretModel(custom_model.CustomModel):\n",
    "    # The init function is used to load the model file\n",
    "    def __init__(self, context: custom_model.ModelContext) -> None:\n",
    "        super().__init__(context)\n",
    "        # The model is saved with .pkl prefix, and the filename will be part of the properties of the ModelContext\n",
    "        # we craete when logging it to Snowflake. Since PyCaret load function does not support using the prefix we \n",
    "        # need to remove it from the name\n",
    "        model_dir = self.context.path(\"model_file\")[:-4]\n",
    "        # Load the model\n",
    "        self.model = load_model(model_dir, verbose=False)\n",
    "        # When running this model in Snowflake it will use a WH and we do not have access to /var/ on the nodes so\n",
    "        # we need to change to a directory we have access to in this case /tmp/\n",
    "        self.model.memory='/tmp/' \n",
    "\n",
    "    @custom_model.inference_api\n",
    "    def predict(self, X: pd.DataFrame) -> pd.DataFrame:\n",
    "        model_output = predict_model(self.model, data=X)\n",
    "        res_df = pd.DataFrame({\"prediction_label\": model_output['prediction_label'], \"prediction_score\": model_output['prediction_score']})\n",
    "        \n",
    "        return res_df"
   ]
  },
  {
   "cell_type": "markdown",
   "metadata": {},
   "source": [
    "We can now use this CustomModel class every time we want to log a PyCaret ClassificationExperiment to Snowflake.\n",
    "\n",
    "Before logging the model we need to define the ModelContext, that will point to the artifatcs, file, needed when using the model in Snowflake."
   ]
  },
  {
   "cell_type": "code",
   "execution_count": null,
   "metadata": {},
   "outputs": [],
   "source": [
    "pycaret_mc = custom_model.ModelContext(\n",
    "\tmodels={ # This should be for models that is supported by Model Registry\n",
    "\t},\n",
    "\tartifacts={ # Everything not supported needs to be here\n",
    "\t\t'model_file': os.path.join(ARTIFACTS_DIR, \"model\",  'juice_best_model.pkl'),\n",
    "\t}\n",
    ")\n"
   ]
  },
  {
   "cell_type": "markdown",
   "metadata": {},
   "source": [
    "We can now create a new Model object and test that with some data, we will save the predictions into a Pandas DataFrame so we can use it later when generating a model signature"
   ]
  },
  {
   "cell_type": "code",
   "execution_count": null,
   "metadata": {},
   "outputs": [],
   "source": [
    "my_pycaret_model = PyCaretModel(pycaret_mc)\n",
    "\n",
    "new_data = data.copy().drop('Purchase', axis=1)\n",
    "\n",
    "output_pd = my_pycaret_model.predict(new_data)\n",
    "output_pd"
   ]
  },
  {
   "cell_type": "markdown",
   "metadata": {},
   "source": [
    "Every model saved in the Snowpark Model Registry needs a unique name within the schema it is saved in, a model name can have multiple versions where each version needs a unique name (within the model)."
   ]
  },
  {
   "cell_type": "code",
   "execution_count": null,
   "metadata": {},
   "outputs": [],
   "source": [
    "model_name = \"pycaret_juice\"\n",
    "version_name = \"v1\""
   ]
  },
  {
   "cell_type": "markdown",
   "metadata": {},
   "source": [
    "Before logging teh model we need to provide a Model Signauture. A Model Signature can be created using sample data for the input and output and we can use the *model_signature.infer_signature* function to generate it from the \n",
    "data.\n",
    "\n",
    "In thsi case we can use the **new_data** Pandas DataFrame as the input_data and **output_pd** Pandas DataFrame as the output."
   ]
  },
  {
   "cell_type": "code",
   "execution_count": null,
   "metadata": {},
   "outputs": [],
   "source": [
    "# Need to create signature since \n",
    "predict_sign = model_signature.infer_signature(input_data=new_data.sample(100), output_data=output_pd.sample(100))\n",
    "predict_sign"
   ]
  },
  {
   "cell_type": "markdown",
   "metadata": {},
   "source": [
    "We can now log the model,  we will use the moel signature for the predict function"
   ]
  },
  {
   "cell_type": "code",
   "execution_count": null,
   "metadata": {},
   "outputs": [],
   "source": [
    "custom_mv = snowml_registry.log_model(\n",
    "    my_pycaret_model,\n",
    "    model_name=model_name,\n",
    "    version_name=version_name,\n",
    "    conda_dependencies=[\"pycaret\"],\n",
    "    signatures={\"predict\": predict_sign},\n",
    "    comment = 'PyCaret ClassificationExperiment using the CustomModel API'\n",
    ")"
   ]
  },
  {
   "cell_type": "markdown",
   "metadata": {},
   "source": []
  },
  {
   "cell_type": "code",
   "execution_count": null,
   "metadata": {},
   "outputs": [],
   "source": [
    "new_data_snowflake = snf_session.write_pandas(new_data,\"pycaret_input_data\", auto_create_table=True, overwrite=True, quote_identifiers=False )\n",
    "new_data_snowflake.show()"
   ]
  },
  {
   "cell_type": "code",
   "execution_count": null,
   "metadata": {},
   "outputs": [],
   "source": [
    "custom_mv.run(new_data_snowflake, function_name='predict').show()"
   ]
  },
  {
   "cell_type": "markdown",
   "metadata": {},
   "source": [
    "```\n",
    "SELECT \n",
    " pycaret_juice!predict(*) as predict_dict,\n",
    " predict_dict['prediction_label']::text as prediction_label,\n",
    " predict_dict['prediction_score']::double as prediction_score\n",
    "from pycaret_input_data;\n",
    "```"
   ]
  },
  {
   "cell_type": "markdown",
   "metadata": {},
   "source": [
    "## Lifetimes"
   ]
  },
  {
   "cell_type": "code",
   "execution_count": null,
   "metadata": {},
   "outputs": [],
   "source": []
  },
  {
   "cell_type": "code",
   "execution_count": 4,
   "metadata": {},
   "outputs": [
    {
     "name": "stdout",
     "output_type": "stream",
     "text": [
      "---------------------------------------------------------------------------------\n",
      "|\"O_ORDERKEY\"  |\"O_CUSTKEY\"  |\"O_ORDERSTATUS\"  |\"O_TOTALPRICE\"  |\"O_ORDERDATE\"  |\n",
      "---------------------------------------------------------------------------------\n",
      "|3000001       |145618       |F                |30175.88        |1992-12-17     |\n",
      "|3000002       |1481         |O                |297999.63       |1995-07-28     |\n",
      "|3000003       |127432       |O                |345438.38       |1997-11-04     |\n",
      "|3000004       |47423        |O                |135965.53       |1996-06-13     |\n",
      "|3000005       |84973        |F                |209937.09       |1992-09-12     |\n",
      "|3000006       |135136       |O                |140186.32       |1996-09-26     |\n",
      "|3000007       |78841        |F                |298655.07       |1992-04-13     |\n",
      "|3000032       |124576       |F                |175973.90       |1992-03-02     |\n",
      "|3000033       |30247        |F                |4635.38         |1993-11-10     |\n",
      "|3000034       |5498         |F                |348308.79       |1992-04-21     |\n",
      "---------------------------------------------------------------------------------\n",
      "\n"
     ]
    }
   ],
   "source": [
    "df_order = snf_session.table(\"SNOWFLAKE_SAMPLE_DATA.TPCH_SF1.ORDERS\").drop(['O_ORDERPRIORITY', 'O_CLERK', 'O_SHIPPRIORITY', 'O_COMMENT'])\n",
    "df_order.show()"
   ]
  },
  {
   "cell_type": "code",
   "execution_count": 5,
   "metadata": {},
   "outputs": [
    {
     "name": "stdout",
     "output_type": "stream",
     "text": [
      "--------------------------------------------------------------------------------\n",
      "|\"O_CUSTKEY\"  |\"FREQUENCY\"  |\"MAX_ORDER_DATE\"  |\"MIN_ORDER_DATE\"  |\"MONETARY\"  |\n",
      "--------------------------------------------------------------------------------\n",
      "|29846        |14           |1997-08-20        |1992-02-08        |1330688.93  |\n",
      "|23305        |18           |1998-04-29        |1992-07-27        |3175788.83  |\n",
      "|17122        |22           |1998-03-31        |1992-05-23        |3300650.14  |\n",
      "|123745       |21           |1998-07-12        |1992-05-10        |3643726.71  |\n",
      "|131644       |21           |1998-01-08        |1992-01-01        |2605833.23  |\n",
      "|73264        |24           |1998-07-01        |1992-01-12        |3890113.43  |\n",
      "|3866         |8            |1998-02-20        |1992-04-10        |1121578.59  |\n",
      "|116611       |29           |1997-12-30        |1992-08-04        |3315850.32  |\n",
      "|21163        |20           |1998-04-13        |1992-03-28        |2987725.36  |\n",
      "|120694       |21           |1998-07-04        |1992-04-04        |3765040.21  |\n",
      "--------------------------------------------------------------------------------\n",
      "\n"
     ]
    }
   ],
   "source": [
    "df_order_rfm = df_order.group_by(\"O_CUSTKEY\").agg(F.count(F.col(\"O_ORDERKEY\")).alias(\"FREQUENCY\")\n",
    "                                                  , F.max(F.col(\"O_ORDERDATE\")).alias(\"MAX_ORDER_DATE\")\n",
    "                                                  , F.min(F.col(\"O_ORDERDATE\")).alias(\"MIN_ORDER_DATE\")\n",
    "                                                  , F.sum(F.col(\"O_TOTALPRICE\")).alias(\"MONETARY\"))\n",
    "df_order_rfm.show()"
   ]
  },
  {
   "cell_type": "code",
   "execution_count": 6,
   "metadata": {},
   "outputs": [
    {
     "data": {
      "text/plain": [
       "datetime.date(1998, 8, 3)"
      ]
     },
     "execution_count": 6,
     "metadata": {},
     "output_type": "execute_result"
    }
   ],
   "source": [
    "from datetime import timedelta \n",
    "start_date = df_order.select(F.max(\"O_ORDERDATE\")).collect()[0][0] + timedelta(days=1)\n",
    "start_date"
   ]
  },
  {
   "cell_type": "code",
   "execution_count": 7,
   "metadata": {},
   "outputs": [
    {
     "name": "stdout",
     "output_type": "stream",
     "text": [
      "-------------------------------------------------------------\n",
      "|\"O_CUSTKEY\"  |\"FREQUENCY\"  |\"MONETARY\"  |\"RECENCY\"  |\"T\"   |\n",
      "-------------------------------------------------------------\n",
      "|72209        |8            |1241132.91  |20         |2054  |\n",
      "|116965       |23           |3449015.64  |134        |2325  |\n",
      "|101956       |18           |2742732.61  |3          |2138  |\n",
      "|98882        |15           |2007794.38  |97         |2200  |\n",
      "|3664         |21           |3175223.15  |36         |2276  |\n",
      "|22730        |9            |1276378.37  |121        |2276  |\n",
      "|89569        |21           |3315702.05  |176        |2372  |\n",
      "|59032        |25           |3656786.74  |54         |2112  |\n",
      "|55615        |26           |3792303.49  |122        |2292  |\n",
      "|48752        |11           |861732.32   |279        |2187  |\n",
      "-------------------------------------------------------------\n",
      "\n"
     ]
    }
   ],
   "source": [
    "#spd_order_rfm['RECENCY'] = spd_order_rfm['MAX_ORDER_DATE'].apply(lambda x: (start_date - x).days)\n",
    "df_order_rfm = df_order_rfm.with_columns([\"RECENCY\", \"T\"]\n",
    "                                         , [F.daydiff(F.lit(start_date), F.col(\"MAX_ORDER_DATE\"))\n",
    "                                            ,F.daydiff(F.lit(start_date), F.col(\"MIN_ORDER_DATE\")) ]).drop([\"MAX_ORDER_DATE\", \"MIN_ORDER_DATE\"])\n",
    "df_order_rfm.show()"
   ]
  },
  {
   "cell_type": "code",
   "execution_count": 17,
   "metadata": {},
   "outputs": [],
   "source": [
    "pd_order_rfm = df_order_rfm.to_pandas()"
   ]
  },
  {
   "cell_type": "code",
   "execution_count": 19,
   "metadata": {},
   "outputs": [
    {
     "name": "stdout",
     "output_type": "stream",
     "text": [
      "<lifetimes.BetaGeoFitter: fitted with 99996 subjects, a: 0.33, alpha: 1.08, b: 0.93, r: 0.47>\n"
     ]
    }
   ],
   "source": [
    "from lifetimes import BetaGeoFitter\n",
    "\n",
    "# similar API to scikit-learn and lifelines.\n",
    "bgf = BetaGeoFitter(penalizer_coef=0.2)\n",
    "bgf.fit(pd_order_rfm['FREQUENCY'], pd_order_rfm['RECENCY'], pd_order_rfm['T'])\n",
    "print(bgf)"
   ]
  },
  {
   "cell_type": "code",
   "execution_count": 20,
   "metadata": {},
   "outputs": [
    {
     "data": {
      "text/html": [
       "<div>\n",
       "<style scoped>\n",
       "    .dataframe tbody tr th:only-of-type {\n",
       "        vertical-align: middle;\n",
       "    }\n",
       "\n",
       "    .dataframe tbody tr th {\n",
       "        vertical-align: top;\n",
       "    }\n",
       "\n",
       "    .dataframe thead th {\n",
       "        text-align: right;\n",
       "    }\n",
       "</style>\n",
       "<table border=\"1\" class=\"dataframe\">\n",
       "  <thead>\n",
       "    <tr style=\"text-align: right;\">\n",
       "      <th></th>\n",
       "      <th>coef</th>\n",
       "      <th>se(coef)</th>\n",
       "      <th>lower 95% bound</th>\n",
       "      <th>upper 95% bound</th>\n",
       "    </tr>\n",
       "  </thead>\n",
       "  <tbody>\n",
       "    <tr>\n",
       "      <th>r</th>\n",
       "      <td>0.469788</td>\n",
       "      <td>0.001712</td>\n",
       "      <td>0.466432</td>\n",
       "      <td>0.473144</td>\n",
       "    </tr>\n",
       "    <tr>\n",
       "      <th>alpha</th>\n",
       "      <td>1.077830</td>\n",
       "      <td>0.007073</td>\n",
       "      <td>1.063966</td>\n",
       "      <td>1.091693</td>\n",
       "    </tr>\n",
       "    <tr>\n",
       "      <th>a</th>\n",
       "      <td>0.330412</td>\n",
       "      <td>0.001177</td>\n",
       "      <td>0.328104</td>\n",
       "      <td>0.332719</td>\n",
       "    </tr>\n",
       "    <tr>\n",
       "      <th>b</th>\n",
       "      <td>0.933580</td>\n",
       "      <td>0.003361</td>\n",
       "      <td>0.926993</td>\n",
       "      <td>0.940167</td>\n",
       "    </tr>\n",
       "  </tbody>\n",
       "</table>\n",
       "</div>"
      ],
      "text/plain": [
       "           coef  se(coef)  lower 95% bound  upper 95% bound\n",
       "r      0.469788  0.001712         0.466432         0.473144\n",
       "alpha  1.077830  0.007073         1.063966         1.091693\n",
       "a      0.330412  0.001177         0.328104         0.332719\n",
       "b      0.933580  0.003361         0.926993         0.940167"
      ]
     },
     "execution_count": 20,
     "metadata": {},
     "output_type": "execute_result"
    }
   ],
   "source": [
    "bgf.summary"
   ]
  },
  {
   "cell_type": "code",
   "execution_count": 21,
   "metadata": {},
   "outputs": [
    {
     "data": {
      "text/html": [
       "<div>\n",
       "<style scoped>\n",
       "    .dataframe tbody tr th:only-of-type {\n",
       "        vertical-align: middle;\n",
       "    }\n",
       "\n",
       "    .dataframe tbody tr th {\n",
       "        vertical-align: top;\n",
       "    }\n",
       "\n",
       "    .dataframe thead th {\n",
       "        text-align: right;\n",
       "    }\n",
       "</style>\n",
       "<table border=\"1\" class=\"dataframe\">\n",
       "  <thead>\n",
       "    <tr style=\"text-align: right;\">\n",
       "      <th></th>\n",
       "      <th>O_CUSTKEY</th>\n",
       "      <th>FREQUENCY</th>\n",
       "      <th>MONETARY</th>\n",
       "      <th>RECENCY</th>\n",
       "      <th>T</th>\n",
       "      <th>predicted_purchases</th>\n",
       "    </tr>\n",
       "  </thead>\n",
       "  <tbody>\n",
       "    <tr>\n",
       "      <th>12282</th>\n",
       "      <td>59816</td>\n",
       "      <td>3</td>\n",
       "      <td>497119.69</td>\n",
       "      <td>244</td>\n",
       "      <td>386</td>\n",
       "      <td>0.005781</td>\n",
       "    </tr>\n",
       "    <tr>\n",
       "      <th>8801</th>\n",
       "      <td>110939</td>\n",
       "      <td>4</td>\n",
       "      <td>728535.56</td>\n",
       "      <td>213</td>\n",
       "      <td>372</td>\n",
       "      <td>0.005970</td>\n",
       "    </tr>\n",
       "    <tr>\n",
       "      <th>96602</th>\n",
       "      <td>37700</td>\n",
       "      <td>3</td>\n",
       "      <td>509329.10</td>\n",
       "      <td>163</td>\n",
       "      <td>294</td>\n",
       "      <td>0.006308</td>\n",
       "    </tr>\n",
       "    <tr>\n",
       "      <th>37448</th>\n",
       "      <td>32471</td>\n",
       "      <td>2</td>\n",
       "      <td>447676.30</td>\n",
       "      <td>94</td>\n",
       "      <td>118</td>\n",
       "      <td>0.015957</td>\n",
       "    </tr>\n",
       "    <tr>\n",
       "      <th>86321</th>\n",
       "      <td>42239</td>\n",
       "      <td>1</td>\n",
       "      <td>65877.82</td>\n",
       "      <td>55</td>\n",
       "      <td>55</td>\n",
       "      <td>0.019297</td>\n",
       "    </tr>\n",
       "  </tbody>\n",
       "</table>\n",
       "</div>"
      ],
      "text/plain": [
       "       O_CUSTKEY  FREQUENCY   MONETARY  RECENCY    T  predicted_purchases\n",
       "12282      59816          3  497119.69      244  386             0.005781\n",
       "8801      110939          4  728535.56      213  372             0.005970\n",
       "96602      37700          3  509329.10      163  294             0.006308\n",
       "37448      32471          2  447676.30       94  118             0.015957\n",
       "86321      42239          1   65877.82       55   55             0.019297"
      ]
     },
     "execution_count": 21,
     "metadata": {},
     "output_type": "execute_result"
    }
   ],
   "source": [
    "t = 1\n",
    "pd_order_rfm['predicted_purchases'] = bgf.conditional_expected_number_of_purchases_up_to_time(t, pd_order_rfm['FREQUENCY'], pd_order_rfm['RECENCY'], pd_order_rfm['T'])\n",
    "pd_order_rfm.sort_values(by='predicted_purchases').tail(5)"
   ]
  },
  {
   "cell_type": "code",
   "execution_count": 22,
   "metadata": {},
   "outputs": [
    {
     "data": {
      "text/plain": [
       "<Axes: title={'center': 'Frequency of Repeat Transactions'}, xlabel='Number of Calibration Period Transactions', ylabel='Customers'>"
      ]
     },
     "execution_count": 22,
     "metadata": {},
     "output_type": "execute_result"
    },
    {
     "data": {
      "image/png": "[encoded data removed]",
      "text/plain": [
       "<Figure size 640x480 with 1 Axes>"
      ]
     },
     "metadata": {},
     "output_type": "display_data"
    }
   ],
   "source": [
    "from lifetimes.plotting import plot_period_transactions\n",
    "plot_period_transactions(bgf)"
   ]
  },
  {
   "cell_type": "code",
   "execution_count": null,
   "metadata": {},
   "outputs": [],
   "source": [
    "bgf.save_model('bgf.pkl')"
   ]
  },
  {
   "cell_type": "code",
   "execution_count": 26,
   "metadata": {},
   "outputs": [
    {
     "data": {
      "text/plain": [
       "'/tmp/lifetimes/model/bgf.pkl'"
      ]
     },
     "execution_count": 26,
     "metadata": {},
     "output_type": "execute_result"
    }
   ],
   "source": [
    "ARTIFACTS_DIR = \"/tmp/lifetimes/\"\n",
    "# Create the directory where we will move the file\n",
    "os.makedirs(os.path.join(ARTIFACTS_DIR, \"model\"), exist_ok=True)\n",
    "# Move the saved model into the directory\n",
    "shutil.move('bgf.pkl', os.path.join(ARTIFACTS_DIR, 'model',  'bgf.pkl'))\n",
    "\n"
   ]
  },
  {
   "cell_type": "code",
   "execution_count": 27,
   "metadata": {},
   "outputs": [],
   "source": [
    "#bgf_loaded = BetaGeoFitter()\n",
    "#bgf_loaded.load_model('bgf.pkl')\n",
    "\n",
    "# Name of the class\n",
    "class BgfModel(custom_model.CustomModel):\n",
    "    # The init function is used to load the model file\n",
    "    def __init__(self, context: custom_model.ModelContext) -> None:\n",
    "        super().__init__(context)\n",
    "        model_path = self.context.path(\"model_file\")\n",
    "        # Load the model\n",
    "        self.model = BetaGeoFitter()\n",
    "        self.model.load_model(model_path)\n",
    "\n",
    "    @custom_model.inference_api\n",
    "    def predict(self, X: pd.DataFrame) -> pd.DataFrame:\n",
    "        t = 1 # Hardcode the number of periods\n",
    "        #model_output = predict_model(self.model, data=X)\n",
    "        model_output = self.model.predict(t, X['frequency'], X['recency'], X['T'])\n",
    "        res_df = pd.DataFrame({\"prediction\": model_output})\n",
    "        return res_df"
   ]
  },
  {
   "cell_type": "code",
   "execution_count": 28,
   "metadata": {},
   "outputs": [],
   "source": [
    "bgf_mc = custom_model.ModelContext(\n",
    "\tmodels={ # This should be for models that is supported by Model Registry\n",
    "\t},\n",
    "\tartifacts={ # Everything not supported needs to be here\n",
    "\t\t'model_file': os.path.join(ARTIFACTS_DIR, \"model\",  'bgf.pkl'),\n",
    "\t}\n",
    ")\n"
   ]
  },
  {
   "cell_type": "code",
   "execution_count": 37,
   "metadata": {},
   "outputs": [
    {
     "data": {
      "text/html": [
       "<div>\n",
       "<style scoped>\n",
       "    .dataframe tbody tr th:only-of-type {\n",
       "        vertical-align: middle;\n",
       "    }\n",
       "\n",
       "    .dataframe tbody tr th {\n",
       "        vertical-align: top;\n",
       "    }\n",
       "\n",
       "    .dataframe thead th {\n",
       "        text-align: right;\n",
       "    }\n",
       "</style>\n",
       "<table border=\"1\" class=\"dataframe\">\n",
       "  <thead>\n",
       "    <tr style=\"text-align: right;\">\n",
       "      <th></th>\n",
       "      <th>prediction</th>\n",
       "    </tr>\n",
       "  </thead>\n",
       "  <tbody>\n",
       "    <tr>\n",
       "      <th>0</th>\n",
       "      <td>0.000362</td>\n",
       "    </tr>\n",
       "  </tbody>\n",
       "</table>\n",
       "</div>"
      ],
      "text/plain": [
       "   prediction\n",
       "0    0.000362"
      ]
     },
     "execution_count": 37,
     "metadata": {},
     "output_type": "execute_result"
    }
   ],
   "source": [
    "my_bgf_model = BgfModel(bgf_mc)\n",
    "\n",
    "pd_input = pd.DataFrame([[4, 728535.56,\t12345]], columns=['frequency', 'recency', 'T'])\n",
    "                     \n",
    "pd_ouput = my_bgf_model.predict(pd_input)\n",
    "pd_ouput"
   ]
  },
  {
   "cell_type": "code",
   "execution_count": 38,
   "metadata": {},
   "outputs": [
    {
     "data": {
      "text/plain": [
       "ModelSignature(\n",
       "                    inputs=[\n",
       "                        FeatureSpec(dtype=DataType.INT64, name='frequency'),\n",
       "\t\tFeatureSpec(dtype=DataType.DOUBLE, name='recency'),\n",
       "\t\tFeatureSpec(dtype=DataType.INT64, name='T')\n",
       "                    ],\n",
       "                    outputs=[\n",
       "                        FeatureSpec(dtype=DataType.DOUBLE, name='prediction')\n",
       "                    ]\n",
       "                )"
      ]
     },
     "execution_count": 38,
     "metadata": {},
     "output_type": "execute_result"
    }
   ],
   "source": [
    "bgf_predict_sign = model_signature.infer_signature(input_data=pd_input, output_data=pd_ouput)\n",
    "bgf_predict_sign"
   ]
  },
  {
   "cell_type": "code",
   "execution_count": 39,
   "metadata": {},
   "outputs": [
    {
     "name": "stderr",
     "output_type": "stream",
     "text": [
      "/Users/mstellwall/anaconda3/envs/snowml_latest_311/lib/python3.11/contextlib.py:137: UserWarning: `relax_version` is not set and therefore defaulted to True. Dependency version constraints relaxed from ==x.y.z to >=x.y, <(x+1). To use specific dependency versions for compatibility, reproducibility, etc., set `options={'relax_version': False}` when logging the model.\n",
      "  return next(self.gen)\n"
     ]
    }
   ],
   "source": [
    "model_name = \"lifetimes_bgf\"\n",
    "version_name = \"v1\"\n",
    "\n",
    "bgf_mv = snowml_registry.log_model(\n",
    "    my_bgf_model,\n",
    "    model_name=model_name,\n",
    "    version_name=version_name,\n",
    "    conda_dependencies=[\"lifetimes\"],\n",
    "    signatures={\"predict\": bgf_predict_sign},\n",
    "    comment = 'Lifetimes bgf model'\n",
    ")"
   ]
  },
  {
   "cell_type": "code",
   "execution_count": 9,
   "metadata": {},
   "outputs": [],
   "source": [
    "bgf_mv = snowml_registry.get_model(\"lifetimes_bgf\").default"
   ]
  },
  {
   "cell_type": "code",
   "execution_count": 10,
   "metadata": {},
   "outputs": [],
   "source": [
    "# Sample 20% of the data\n",
    "test_df = df_order_rfm.sample(frac=0.20)"
   ]
  },
  {
   "cell_type": "code",
   "execution_count": 11,
   "metadata": {},
   "outputs": [
    {
     "name": "stdout",
     "output_type": "stream",
     "text": [
      "--------------------------------------------------------------------------------------\n",
      "|\"O_CUSTKEY\"  |\"FREQUENCY\"  |\"MONETARY\"  |\"RECENCY\"  |\"T\"   |\"PREDICTION\"            |\n",
      "--------------------------------------------------------------------------------------\n",
      "|43036        |18           |2858051.86  |53         |2405  |1.5002358931194259e-31  |\n",
      "|123593       |9            |1237562.80  |992        |2176  |6.844657436914823e-05   |\n",
      "|97628        |7            |687227.97   |404        |2394  |1.124094920430623e-07   |\n",
      "|35753        |12           |1763359.83  |163        |2055  |4.454526868909028e-15   |\n",
      "|35206        |19           |3140897.63  |59         |2180  |2.1717203635390167e-31  |\n",
      "|52927        |23           |4083456.99  |75         |2389  |4.961333098250627e-36   |\n",
      "|57941        |12           |1635616.96  |60         |2137  |1.1706306025474395e-20  |\n",
      "|130279       |29           |4945244.59  |37         |2294  |3.899260019459128e-53   |\n",
      "|1687         |18           |2541453.85  |134        |2128  |3.575133454330667e-23   |\n",
      "|37501        |20           |3545296.71  |2          |2262  |1.1512992152837875e-59  |\n",
      "--------------------------------------------------------------------------------------\n",
      "\n"
     ]
    }
   ],
   "source": [
    "\n",
    "# Run the inference in SNowflake\n",
    "prediction_df = bgf_mv.run(test_df, function_name='predict')\n",
    "prediction_df.show()"
   ]
  },
  {
   "cell_type": "code",
   "execution_count": 13,
   "metadata": {},
   "outputs": [
    {
     "name": "stdout",
     "output_type": "stream",
     "text": [
      "SELECT \"O_CUSTKEY\", \"FREQUENCY\", \"MONETARY\", \"RECENCY\", \"T\",  CAST (\"TMP_RESULT\"['prediction'] AS DOUBLE) AS \"PREDICTION\" FROM (WITH SNOWPARK_ML_MODEL_INFERENCE_INPUT AS (SELECT  *  FROM ( SELECT \"O_CUSTKEY\", \"FREQUENCY\", \"MONETARY\", datediff('day', \"MAX_ORDER_DATE\", DATE '1998-08-03') AS \"RECENCY\", datediff('day', \"MIN_ORDER_DATE\", DATE '1998-08-03') AS \"T\" FROM ( SELECT \"O_CUSTKEY\", count(\"O_ORDERKEY\") AS \"FREQUENCY\", max(\"O_ORDERDATE\") AS \"MAX_ORDER_DATE\", min(\"O_ORDERDATE\") AS \"MIN_ORDER_DATE\", sum(\"O_TOTALPRICE\") AS \"MONETARY\" FROM ( SELECT \"O_ORDERKEY\", \"O_CUSTKEY\", \"O_ORDERSTATUS\", \"O_TOTALPRICE\", \"O_ORDERDATE\" FROM SNOWFLAKE_SAMPLE_DATA.TPCH_SF1.ORDERS) GROUP BY \"O_CUSTKEY\")) SAMPLE (20.0)),MODEL_VERSION_ALIAS AS MODEL SNOWPARK_DEMO_DB.SOURCE_DATA.LIFETIMES_BGF VERSION V1\n",
      "                SELECT *,\n",
      "                    MODEL_VERSION_ALIAS!PREDICT(FREQUENCY, RECENCY, T) AS TMP_RESULT\n",
      "                FROM SNOWPARK_ML_MODEL_INFERENCE_INPUT)\n"
     ]
    }
   ],
   "source": [
    "print(prediction_df.queries['queries'][0])"
   ]
  },
  {
   "cell_type": "code",
   "execution_count": 14,
   "metadata": {},
   "outputs": [
    {
     "data": {
      "text/html": [
       "<div>\n",
       "<style scoped>\n",
       "    .dataframe tbody tr th:only-of-type {\n",
       "        vertical-align: middle;\n",
       "    }\n",
       "\n",
       "    .dataframe tbody tr th {\n",
       "        vertical-align: top;\n",
       "    }\n",
       "\n",
       "    .dataframe thead th {\n",
       "        text-align: right;\n",
       "    }\n",
       "</style>\n",
       "<table border=\"1\" class=\"dataframe\">\n",
       "  <thead>\n",
       "    <tr style=\"text-align: right;\">\n",
       "      <th></th>\n",
       "      <th>created_on</th>\n",
       "      <th>name</th>\n",
       "      <th>database_name</th>\n",
       "      <th>schema_name</th>\n",
       "      <th>comment</th>\n",
       "      <th>owner</th>\n",
       "      <th>default_version_name</th>\n",
       "      <th>versions</th>\n",
       "    </tr>\n",
       "  </thead>\n",
       "  <tbody>\n",
       "    <tr>\n",
       "      <th>0</th>\n",
       "      <td>2024-04-02 05:34:01.264000-07:00</td>\n",
       "      <td>LIFETIMES_BGF</td>\n",
       "      <td>SNOWPARK_DEMO_DB</td>\n",
       "      <td>SOURCE_DATA</td>\n",
       "      <td>None</td>\n",
       "      <td>SYSADMIN</td>\n",
       "      <td>V1</td>\n",
       "      <td>[\"V1\"]</td>\n",
       "    </tr>\n",
       "    <tr>\n",
       "      <th>1</th>\n",
       "      <td>2024-02-19 00:47:08.087000-08:00</td>\n",
       "      <td>PP_PREDICT_RESPONSE</td>\n",
       "      <td>SNOWPARK_DEMO_DB</td>\n",
       "      <td>SOURCE_DATA</td>\n",
       "      <td>None</td>\n",
       "      <td>SYSADMIN</td>\n",
       "      <td>V1</td>\n",
       "      <td>[\"V1\",\"V2\"]</td>\n",
       "    </tr>\n",
       "    <tr>\n",
       "      <th>2</th>\n",
       "      <td>2024-03-12 07:45:38.925000-07:00</td>\n",
       "      <td>PYCARET_JUICE</td>\n",
       "      <td>SNOWPARK_DEMO_DB</td>\n",
       "      <td>SOURCE_DATA</td>\n",
       "      <td>None</td>\n",
       "      <td>SYSADMIN</td>\n",
       "      <td>V1</td>\n",
       "      <td>[\"V1\"]</td>\n",
       "    </tr>\n",
       "    <tr>\n",
       "      <th>3</th>\n",
       "      <td>2024-03-12 08:05:33.503000-07:00</td>\n",
       "      <td>SKL_DIAMONDS</td>\n",
       "      <td>SNOWPARK_DEMO_DB</td>\n",
       "      <td>SOURCE_DATA</td>\n",
       "      <td>None</td>\n",
       "      <td>SYSADMIN</td>\n",
       "      <td>V1</td>\n",
       "      <td>[\"V1\"]</td>\n",
       "    </tr>\n",
       "    <tr>\n",
       "      <th>4</th>\n",
       "      <td>2024-02-19 01:12:08.010000-08:00</td>\n",
       "      <td>SKL_PREDICT_RESPONSE</td>\n",
       "      <td>SNOWPARK_DEMO_DB</td>\n",
       "      <td>SOURCE_DATA</td>\n",
       "      <td>None</td>\n",
       "      <td>SYSADMIN</td>\n",
       "      <td>V1</td>\n",
       "      <td>[\"V1\"]</td>\n",
       "    </tr>\n",
       "  </tbody>\n",
       "</table>\n",
       "</div>"
      ],
      "text/plain": [
       "                        created_on                  name     database_name  \\\n",
       "0 2024-04-02 05:34:01.264000-07:00         LIFETIMES_BGF  SNOWPARK_DEMO_DB   \n",
       "1 2024-02-19 00:47:08.087000-08:00   PP_PREDICT_RESPONSE  SNOWPARK_DEMO_DB   \n",
       "2 2024-03-12 07:45:38.925000-07:00         PYCARET_JUICE  SNOWPARK_DEMO_DB   \n",
       "3 2024-03-12 08:05:33.503000-07:00          SKL_DIAMONDS  SNOWPARK_DEMO_DB   \n",
       "4 2024-02-19 01:12:08.010000-08:00  SKL_PREDICT_RESPONSE  SNOWPARK_DEMO_DB   \n",
       "\n",
       "   schema_name comment     owner default_version_name     versions  \n",
       "0  SOURCE_DATA    None  SYSADMIN                   V1       [\"V1\"]  \n",
       "1  SOURCE_DATA    None  SYSADMIN                   V1  [\"V1\",\"V2\"]  \n",
       "2  SOURCE_DATA    None  SYSADMIN                   V1       [\"V1\"]  \n",
       "3  SOURCE_DATA    None  SYSADMIN                   V1       [\"V1\"]  \n",
       "4  SOURCE_DATA    None  SYSADMIN                   V1       [\"V1\"]  "
      ]
     },
     "execution_count": 14,
     "metadata": {},
     "output_type": "execute_result"
    }
   ],
   "source": [
    "snowml_registry.show_models()"
   ]
  },
  {
   "cell_type": "code",
   "execution_count": 15,
   "metadata": {},
   "outputs": [
    {
     "data": {
      "text/html": [
       "<div>\n",
       "<style scoped>\n",
       "    .dataframe tbody tr th:only-of-type {\n",
       "        vertical-align: middle;\n",
       "    }\n",
       "\n",
       "    .dataframe tbody tr th {\n",
       "        vertical-align: top;\n",
       "    }\n",
       "\n",
       "    .dataframe thead th {\n",
       "        text-align: right;\n",
       "    }\n",
       "</style>\n",
       "<table border=\"1\" class=\"dataframe\">\n",
       "  <thead>\n",
       "    <tr style=\"text-align: right;\">\n",
       "      <th></th>\n",
       "      <th>created_on</th>\n",
       "      <th>name</th>\n",
       "      <th>comment</th>\n",
       "      <th>database_name</th>\n",
       "      <th>schema_name</th>\n",
       "      <th>module_name</th>\n",
       "      <th>is_default_version</th>\n",
       "      <th>functions</th>\n",
       "      <th>metadata</th>\n",
       "      <th>user_data</th>\n",
       "    </tr>\n",
       "  </thead>\n",
       "  <tbody>\n",
       "    <tr>\n",
       "      <th>0</th>\n",
       "      <td>2024-02-19 00:47:08.114000-08:00</td>\n",
       "      <td>V1</td>\n",
       "      <td>First Version of a Pipline with OneHoteEncoder...</td>\n",
       "      <td>SNOWPARK_DEMO_DB</td>\n",
       "      <td>SOURCE_DATA</td>\n",
       "      <td>PP_PREDICT_RESPONSE</td>\n",
       "      <td>true</td>\n",
       "      <td>[\"PREDICT_PROBA\",\"PREDICT\",\"PREDICT_LOG_PROBA\"]</td>\n",
       "      <td>{\"metrics\": {\"train_accuracy\": 1.0, \"train_pre...</td>\n",
       "      <td>{\"snowpark_ml_data\":{\"functions\":[{\"name\":\"PRE...</td>\n",
       "    </tr>\n",
       "    <tr>\n",
       "      <th>1</th>\n",
       "      <td>2024-03-13 00:35:28.187000-07:00</td>\n",
       "      <td>V2</td>\n",
       "      <td>First Version of a Pipline with OneHoteEncoder...</td>\n",
       "      <td>SNOWPARK_DEMO_DB</td>\n",
       "      <td>SOURCE_DATA</td>\n",
       "      <td>PP_PREDICT_RESPONSE</td>\n",
       "      <td>false</td>\n",
       "      <td>[\"PREDICT_PROBA\",\"PREDICT\",\"PREDICT_LOG_PROBA\"]</td>\n",
       "      <td>{\"metrics\": {\"train_accuracy\": 0.999934, \"trai...</td>\n",
       "      <td>{\"snowpark_ml_data\":{\"functions\":[{\"name\":\"PRE...</td>\n",
       "    </tr>\n",
       "  </tbody>\n",
       "</table>\n",
       "</div>"
      ],
      "text/plain": [
       "                        created_on name  \\\n",
       "0 2024-02-19 00:47:08.114000-08:00   V1   \n",
       "1 2024-03-13 00:35:28.187000-07:00   V2   \n",
       "\n",
       "                                             comment     database_name  \\\n",
       "0  First Version of a Pipline with OneHoteEncoder...  SNOWPARK_DEMO_DB   \n",
       "1  First Version of a Pipline with OneHoteEncoder...  SNOWPARK_DEMO_DB   \n",
       "\n",
       "   schema_name          module_name is_default_version  \\\n",
       "0  SOURCE_DATA  PP_PREDICT_RESPONSE               true   \n",
       "1  SOURCE_DATA  PP_PREDICT_RESPONSE              false   \n",
       "\n",
       "                                         functions  \\\n",
       "0  [\"PREDICT_PROBA\",\"PREDICT\",\"PREDICT_LOG_PROBA\"]   \n",
       "1  [\"PREDICT_PROBA\",\"PREDICT\",\"PREDICT_LOG_PROBA\"]   \n",
       "\n",
       "                                            metadata  \\\n",
       "0  {\"metrics\": {\"train_accuracy\": 1.0, \"train_pre...   \n",
       "1  {\"metrics\": {\"train_accuracy\": 0.999934, \"trai...   \n",
       "\n",
       "                                           user_data  \n",
       "0  {\"snowpark_ml_data\":{\"functions\":[{\"name\":\"PRE...  \n",
       "1  {\"snowpark_ml_data\":{\"functions\":[{\"name\":\"PRE...  "
      ]
     },
     "execution_count": 15,
     "metadata": {},
     "output_type": "execute_result"
    }
   ],
   "source": [
    "PP_PREDICT_RESPONSE = snowml_registry.get_model('PP_PREDICT_RESPONSE')\n",
    "PP_PREDICT_RESPONSE.show_versions()"
   ]
  },
  {
   "cell_type": "code",
   "execution_count": null,
   "metadata": {},
   "outputs": [],
   "source": []
  }
 ],
 "metadata": {
  "kernelspec": {
   "display_name": "snowml_latest_311",
   "language": "python",
   "name": "python3"
  },
  "language_info": {
   "codemirror_mode": {
    "name": "ipython",
    "version": 3
   },
   "file_extension": ".py",
   "mimetype": "text/x-python",
   "name": "python",
   "nbconvert_exporter": "python",
   "pygments_lexer": "ipython3",
   "version": "3.11.7"
  }
 },
 "nbformat": 4,
 "nbformat_minor": 2
}
